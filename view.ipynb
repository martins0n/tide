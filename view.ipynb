{
 "cells": [
  {
   "cell_type": "code",
   "execution_count": 110,
   "metadata": {},
   "outputs": [],
   "source": [
    "import pandas as pd\n",
    "import wandb"
   ]
  },
  {
   "cell_type": "code",
   "execution_count": 111,
   "metadata": {},
   "outputs": [],
   "source": [
    "api = wandb.Api()\n",
    "\n",
    "# Project is specified by <entity/project-name>\n",
    "runs = api.runs(\"martins0n/tide\")\n",
    "\n",
    "summary_list, config_list, name_list, link = [], [], [], []\n",
    "for run in runs: \n",
    "    # .summary contains the output keys/values for metrics like accuracy.\n",
    "    #  We call ._json_dict to omit large files \n",
    "    summary_list.append(run.summary._json_dict)\n",
    "\n",
    "    # .config contains the hyperparameters.\n",
    "    #  We remove special values that start with _.\n",
    "    config_list.append(\n",
    "        {k: v for k,v in run.config.items()\n",
    "          if not k.startswith('_')})\n",
    "\n",
    "    # .name is the human-readable name of the run.\n",
    "    name_list.append(run.name)\n",
    "    link.append(run.url)\n",
    "\n",
    "runs_df = pd.DataFrame({\n",
    "    \"summary\": summary_list,\n",
    "    \"config\": config_list,\n",
    "    \"name\": name_list,\n",
    "    \"link\": link\n",
    "    })"
   ]
  },
  {
   "cell_type": "code",
   "execution_count": 112,
   "metadata": {},
   "outputs": [],
   "source": [
    "def flatten_json(y):\n",
    "    out = {}\n",
    " \n",
    "    def flatten(x, name=''):\n",
    " \n",
    "        # If the Nested key-value\n",
    "        # pair is of dict type\n",
    "        if type(x) is dict:\n",
    " \n",
    "            for a in x:\n",
    "                flatten(x[a], name + a + '.')\n",
    " \n",
    "        # If the Nested key-value\n",
    "        # pair is of list type\n",
    "        elif type(x) is list:\n",
    " \n",
    "            i = 0\n",
    " \n",
    "            for a in x:\n",
    "                flatten(a, name + str(i) + '.')\n",
    "                i += 1\n",
    "        else:\n",
    "            out[name[:-1]] = x\n",
    " \n",
    "    flatten(y)\n",
    "    return out"
   ]
  },
  {
   "cell_type": "code",
   "execution_count": 113,
   "metadata": {},
   "outputs": [
    {
     "data": {
      "text/html": [
       "<div>\n",
       "<style scoped>\n",
       "    .dataframe tbody tr th:only-of-type {\n",
       "        vertical-align: middle;\n",
       "    }\n",
       "\n",
       "    .dataframe tbody tr th {\n",
       "        vertical-align: top;\n",
       "    }\n",
       "\n",
       "    .dataframe thead th {\n",
       "        text-align: right;\n",
       "    }\n",
       "</style>\n",
       "<table border=\"1\" class=\"dataframe\">\n",
       "  <thead>\n",
       "    <tr style=\"text-align: right;\">\n",
       "      <th></th>\n",
       "      <th>summary</th>\n",
       "      <th>config</th>\n",
       "      <th>name</th>\n",
       "      <th>link</th>\n",
       "    </tr>\n",
       "  </thead>\n",
       "  <tbody>\n",
       "    <tr>\n",
       "      <th>0</th>\n",
       "      <td>{'test_loss': 0.450423002243042, '_timestamp':...</td>\n",
       "      <td>{'seed': 11, 'model': {'lr': 6.55e-05, 'horizo...</td>\n",
       "      <td>decent-cosmos-228</td>\n",
       "      <td>https://wandb.ai/martins0n/tide/runs/wu6kcoj3</td>\n",
       "    </tr>\n",
       "    <tr>\n",
       "      <th>1</th>\n",
       "      <td>{'lr-Adam': 3.01e-05, '_timestamp': 1689538604...</td>\n",
       "      <td>{'seed': 11, 'model': {'lr': 3.01e-05, 'horizo...</td>\n",
       "      <td>hardy-sun-227</td>\n",
       "      <td>https://wandb.ai/martins0n/tide/runs/ixnfwz85</td>\n",
       "    </tr>\n",
       "    <tr>\n",
       "      <th>2</th>\n",
       "      <td>{'epoch': 5, 'MSE_mean': 0.19268622994422913, ...</td>\n",
       "      <td>{'seed': 11, 'model': {'lr': 3.01e-05, 'horizo...</td>\n",
       "      <td>fast-terrain-226</td>\n",
       "      <td>https://wandb.ai/martins0n/tide/runs/7yhjoq06</td>\n",
       "    </tr>\n",
       "    <tr>\n",
       "      <th>3</th>\n",
       "      <td>{'test_loss': 0.4383061230182648, 'trainer/glo...</td>\n",
       "      <td>{'seed': 11, 'model': {'lr': 6.55e-05, 'horizo...</td>\n",
       "      <td>peach-firebrand-225</td>\n",
       "      <td>https://wandb.ai/martins0n/tide/runs/qb7ou15t</td>\n",
       "    </tr>\n",
       "    <tr>\n",
       "      <th>4</th>\n",
       "      <td>{'test_loss': 0.1379043459892273, '_step': 273...</td>\n",
       "      <td>{'seed': 11, 'model': {'lr': 0.000252, 'horizo...</td>\n",
       "      <td>polished-firefly-224</td>\n",
       "      <td>https://wandb.ai/martins0n/tide/runs/kzcu63if</td>\n",
       "    </tr>\n",
       "  </tbody>\n",
       "</table>\n",
       "</div>"
      ],
      "text/plain": [
       "                                             summary  \\\n",
       "0  {'test_loss': 0.450423002243042, '_timestamp':...   \n",
       "1  {'lr-Adam': 3.01e-05, '_timestamp': 1689538604...   \n",
       "2  {'epoch': 5, 'MSE_mean': 0.19268622994422913, ...   \n",
       "3  {'test_loss': 0.4383061230182648, 'trainer/glo...   \n",
       "4  {'test_loss': 0.1379043459892273, '_step': 273...   \n",
       "\n",
       "                                              config                  name  \\\n",
       "0  {'seed': 11, 'model': {'lr': 6.55e-05, 'horizo...     decent-cosmos-228   \n",
       "1  {'seed': 11, 'model': {'lr': 3.01e-05, 'horizo...         hardy-sun-227   \n",
       "2  {'seed': 11, 'model': {'lr': 3.01e-05, 'horizo...      fast-terrain-226   \n",
       "3  {'seed': 11, 'model': {'lr': 6.55e-05, 'horizo...   peach-firebrand-225   \n",
       "4  {'seed': 11, 'model': {'lr': 0.000252, 'horizo...  polished-firefly-224   \n",
       "\n",
       "                                            link  \n",
       "0  https://wandb.ai/martins0n/tide/runs/wu6kcoj3  \n",
       "1  https://wandb.ai/martins0n/tide/runs/ixnfwz85  \n",
       "2  https://wandb.ai/martins0n/tide/runs/7yhjoq06  \n",
       "3  https://wandb.ai/martins0n/tide/runs/qb7ou15t  \n",
       "4  https://wandb.ai/martins0n/tide/runs/kzcu63if  "
      ]
     },
     "execution_count": 113,
     "metadata": {},
     "output_type": "execute_result"
    }
   ],
   "source": [
    "runs_df.head()"
   ]
  },
  {
   "cell_type": "code",
   "execution_count": 114,
   "metadata": {},
   "outputs": [],
   "source": [
    "runs_df[\"config\"] = runs_df[\"config\"].apply(flatten_json)"
   ]
  },
  {
   "cell_type": "code",
   "execution_count": 115,
   "metadata": {},
   "outputs": [],
   "source": [
    "df = runs_df.copy()"
   ]
  },
  {
   "cell_type": "code",
   "execution_count": 116,
   "metadata": {},
   "outputs": [],
   "source": [
    "df = (df.pipe(\n",
    "    lambda x: pd.concat([x.drop(['config'], axis=1), x['config'].apply(pd.Series)], axis=1)\n",
    "    )\n",
    "    .pipe(\n",
    "        lambda x: pd.concat([x.drop(['summary'], axis=1), x['summary'].apply(pd.Series)], axis=1)\n",
    "    )\n",
    ")\n",
    "\n",
    "runs_df = pd.json_normalize(runs_df['summary'])"
   ]
  },
  {
   "cell_type": "code",
   "execution_count": 117,
   "metadata": {},
   "outputs": [],
   "source": [
    "df = df[lambda x: x['test_mae'].notnull()]\n",
    "df = df[lambda x: x['test_mse'].notnull()]\n",
    "df = df[lambda x: x['accelerator'] == 'cuda']\n",
    "df['dataset'] = df['dataset.name'].apply(lambda x: x.split('.')[0])\n",
    "df['horizon'] = df['experiment.horizon'].apply(int)"
   ]
  },
  {
   "cell_type": "code",
   "execution_count": 118,
   "metadata": {},
   "outputs": [],
   "source": [
    "paper_metrics = pd.read_csv('paper.metrics.csv')"
   ]
  },
  {
   "cell_type": "code",
   "execution_count": 119,
   "metadata": {},
   "outputs": [
    {
     "data": {
      "text/html": [
       "<div>\n",
       "<style scoped>\n",
       "    .dataframe tbody tr th:only-of-type {\n",
       "        vertical-align: middle;\n",
       "    }\n",
       "\n",
       "    .dataframe tbody tr th {\n",
       "        vertical-align: top;\n",
       "    }\n",
       "\n",
       "    .dataframe thead th {\n",
       "        text-align: right;\n",
       "    }\n",
       "</style>\n",
       "<table border=\"1\" class=\"dataframe\">\n",
       "  <thead>\n",
       "    <tr style=\"text-align: right;\">\n",
       "      <th></th>\n",
       "      <th>dataset</th>\n",
       "      <th>horizon</th>\n",
       "      <th>MSE</th>\n",
       "      <th>MAE</th>\n",
       "    </tr>\n",
       "  </thead>\n",
       "  <tbody>\n",
       "    <tr>\n",
       "      <th>0</th>\n",
       "      <td>weather</td>\n",
       "      <td>96</td>\n",
       "      <td>0.166</td>\n",
       "      <td>0.222</td>\n",
       "    </tr>\n",
       "    <tr>\n",
       "      <th>1</th>\n",
       "      <td>weather</td>\n",
       "      <td>192</td>\n",
       "      <td>0.209</td>\n",
       "      <td>0.263</td>\n",
       "    </tr>\n",
       "    <tr>\n",
       "      <th>2</th>\n",
       "      <td>weather</td>\n",
       "      <td>336</td>\n",
       "      <td>0.254</td>\n",
       "      <td>0.301</td>\n",
       "    </tr>\n",
       "    <tr>\n",
       "      <th>3</th>\n",
       "      <td>weather</td>\n",
       "      <td>720</td>\n",
       "      <td>0.313</td>\n",
       "      <td>0.340</td>\n",
       "    </tr>\n",
       "    <tr>\n",
       "      <th>4</th>\n",
       "      <td>traffic</td>\n",
       "      <td>96</td>\n",
       "      <td>0.336</td>\n",
       "      <td>0.253</td>\n",
       "    </tr>\n",
       "  </tbody>\n",
       "</table>\n",
       "</div>"
      ],
      "text/plain": [
       "   dataset  horizon    MSE    MAE\n",
       "0  weather       96  0.166  0.222\n",
       "1  weather      192  0.209  0.263\n",
       "2  weather      336  0.254  0.301\n",
       "3  weather      720  0.313  0.340\n",
       "4  traffic       96  0.336  0.253"
      ]
     },
     "execution_count": 119,
     "metadata": {},
     "output_type": "execute_result"
    }
   ],
   "source": [
    "paper_metrics.head()"
   ]
  },
  {
   "cell_type": "code",
   "execution_count": 122,
   "metadata": {},
   "outputs": [],
   "source": [
    "(\n",
    "    df\n",
    "    .sort_values(by=[\"model.max_epochs\"], ascending=False)\n",
    "    .drop_duplicates(subset=['dataset', 'horizon'], keep='first')\n",
    "    .sort_values(by=['dataset',  'horizon'])\n",
    "    .merge(paper_metrics, on=['dataset', 'horizon'])\n",
    "    .pipe(lambda y: y.assign(name=y.apply(lambda x: f\"[{x.dataset} {x.horizon}]({x.link})\", axis=1))\n",
    "    [['name', 'test_mae', 'MAE',  'test_mse', 'MSE']]\n",
    "    )\n",
    ").to_markdown(\"tt.md\", index=False)"
   ]
  },
  {
   "cell_type": "code",
   "execution_count": null,
   "metadata": {},
   "outputs": [],
   "source": []
  }
 ],
 "metadata": {
  "kernelspec": {
   "display_name": "tide-DsE4dTUM-py3.8",
   "language": "python",
   "name": "python3"
  },
  "language_info": {
   "codemirror_mode": {
    "name": "ipython",
    "version": 3
   },
   "file_extension": ".py",
   "mimetype": "text/x-python",
   "name": "python",
   "nbconvert_exporter": "python",
   "pygments_lexer": "ipython3",
   "version": "3.8.12"
  },
  "orig_nbformat": 4
 },
 "nbformat": 4,
 "nbformat_minor": 2
}
